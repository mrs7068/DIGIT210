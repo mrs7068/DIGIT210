{
 "cells": [
  {
   "cell_type": "code",
   "execution_count": 4,
   "id": "fd58502e-1932-42e1-bae6-3067dac0e6ea",
   "metadata": {},
   "outputs": [
    {
     "name": "stdout",
     "output_type": "stream",
     "text": [
      "--- song-8.txt ---\n",
      "['Black', 'Smoke', 'Rising', 'From', 'the', 'Fires', 'Greta', 'Van', 'Fleet', '[']\n",
      "\n",
      "--- song-2.txt ---\n",
      "['Edge', 'of', 'Darkness', 'From', 'the', 'Fires', 'Greta', 'Van', 'Fleet', '[']\n",
      "\n",
      "--- song-3.txt ---\n",
      "['Flower', 'Power', 'From', 'the', 'Fires', 'Greta', 'Van', 'Fleet', '[', 'Intro']\n",
      "\n",
      "--- song-1.txt ---\n",
      "['Safari', 'Song', 'From', 'the', 'Fires', 'Greta', 'Van', 'Fleet', '[', 'Intro']\n",
      "\n",
      "--- song-4.txt ---\n",
      "['A', 'Change', 'Is', 'Gon', 'na', 'Come', 'From', 'the', 'Fires', 'Greta']\n",
      "\n",
      "--- song-5.txt ---\n",
      "['Highway', 'Tune', 'From', 'the', 'Fires', 'Greta', 'Van', 'Fleet', '[', 'Intro']\n",
      "\n",
      "--- song-7.txt ---\n",
      "['Talk', 'on', 'the', 'Street', 'From', 'the', 'Fires', 'Greta', 'Van', 'Fleet']\n",
      "\n",
      "--- song-6.txt ---\n",
      "['Meet', 'on', 'the', 'Ledge', 'From', 'the', 'Fires', 'Greta', 'Van', 'Fleet']\n",
      "\n"
     ]
    }
   ],
   "source": [
    "import os\n",
    "from nltk.tokenize import word_tokenize\n",
    "\n",
    "folder_path = \"projectFiles\"\n",
    "\n",
    "for filename in os.listdir(folder_path):\n",
    "    if filename.endswith(\".txt\"):\n",
    "        file_path = os.path.join(folder_path, filename)\n",
    "\n",
    "        # Read the file\n",
    "        with open(file_path, 'r', encoding='utf-8') as f:\n",
    "            text = f.read()\n",
    "\n",
    "        # Tokenize the text\n",
    "        words = word_tokenize(text)\n",
    "\n",
    "        # Do something with the words (example: print first 10)\n",
    "        print(f\"--- {filename} ---\")\n",
    "        print(words[:10])\n",
    "        print()"
   ]
  },
  {
   "cell_type": "code",
   "execution_count": null,
   "id": "9546ec38-0117-4c57-8834-626b22f89212",
   "metadata": {},
   "outputs": [],
   "source": []
  }
 ],
 "metadata": {
  "kernelspec": {
   "display_name": "Python 3 (ipykernel)",
   "language": "python",
   "name": "python3"
  },
  "language_info": {
   "codemirror_mode": {
    "name": "ipython",
    "version": 3
   },
   "file_extension": ".py",
   "mimetype": "text/x-python",
   "name": "python",
   "nbconvert_exporter": "python",
   "pygments_lexer": "ipython3",
   "version": "3.9.6"
  }
 },
 "nbformat": 4,
 "nbformat_minor": 5
}
